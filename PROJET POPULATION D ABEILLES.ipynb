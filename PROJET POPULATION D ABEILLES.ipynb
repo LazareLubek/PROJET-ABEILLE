{
 "run_cells": [
  {
   "cell_type": "markdown",
   "metadata": {},
   "source": [
    "# PROJET POPULATION D ABEILLES"
   ]
  },
  {
   "cell_type": "code",
   "execution_count": 49,
   "metadata": {},
   "outputs": [],
   "source": [
    "#INTITIALISATION DE LA POPULATION\n",
    "\n",
    "from random import *\n",
    "from math import *\n",
    "\n",
    "def population():\n",
    "    colonie=randrange(5000, 15000)\n",
    "    nb_males=int(colonie/(1+((1+sqrt(5))/2)))\n",
    "    nb_ouvriere=colonie-nb_males\n",
    "    reine=True\n",
    "    #True la reine est vivante, False la reine est morte\n",
    "    \n",
    "    return((colonie,nb_males,nb_ouvriere,reine))\n",
    "\n"
   ]
  },
  {
   "cell_type": "code",
   "execution_count": 50,
   "metadata": {},
   "outputs": [
    {
     "name": "stdout",
     "output_type": "stream",
     "text": [
      "(12786, 4883, 7903, True)\n"
     ]
    }
   ],
   "source": [
    "print(population())"
   ]
  },
  {
   "cell_type": "code",
   "execution_count": 51,
   "metadata": {},
   "outputs": [],
   "source": [
    "#INTITIALISATION DU TEMPS\n",
    "\n",
    "nb_steps=25\n",
    "t=0\n",
    "#On a choisit une periode de T= 7 jours , t(n)=t0+nT "
   ]
  },
  {
   "cell_type": "markdown",
   "metadata": {},
   "source": [
    "### REPRODUCTION IDEALE"
   ]
  },
  {
   "cell_type": "code",
   "execution_count": 52,
   "metadata": {},
   "outputs": [],
   "source": [
    "def production():\n",
    "\n",
    "\n",
    "    R=[]\n",
    "    oeuf=0\n",
    "    oeuf_max_par_semaine=7*2000\n",
    "\n",
    "    colonie,nb_males,nb_ouvriere,reine=population()\n",
    "\n",
    "\n",
    "    for i in range(nb_steps):\n",
    "        nb_male_mort=randrange(0, nb_males//2)\n",
    "        nb_ouvriere_morte=randrange(0, nb_ouvriere//2)\n",
    "\n",
    "        nb_males=nb_males-nb_male_mort\n",
    "        nb_ouvriere=nb_ouvriere-nb_ouvriere_morte\n",
    "    \n",
    "        oeuf=0\n",
    "    \n",
    "        if(reine):\n",
    "            while(nb_ouvriere<(((1+sqrt(5))/2)*nb_males) and oeuf<oeuf_max_par_semaine):\n",
    "                nb_ouvriere=nb_ouvriere+1\n",
    "                oeuf=oeuf+1\n",
    "            while(nb_ouvriere<(((1+sqrt(5))/2)*nb_males) and oeuf<oeuf_max_par_semaine):\n",
    "                nb_males=nb_males+1\n",
    "                oeuf=oeuf+1\n",
    "            \n",
    "            if oeuf<140:\n",
    "                male_ajoute=int((oeuf_max_par_semaine-oeuf)/((1+sqrt(5))/2))\n",
    "                nb_males=nb_males+(male_ajoute)\n",
    "                nb_ouvriere=nb_ouvriere+oeuf_max_par_semaine-oeuf-male_ajoute\n",
    "        \n",
    "            LISTE=[(\"nb_ouvriere\",nb_ouvriere),(\"nb_males\",nb_males)]\n",
    "        \n",
    "            R.append((nb_ouvriere,nb_males))\n",
    "    return(R)\n",
    "\n",
    "\n",
    " "
   ]
  },
  {
   "cell_type": "code",
   "execution_count": 53,
   "metadata": {},
   "outputs": [
    {
     "data": {
      "text/plain": [
       "[(3305, 2042),\n",
       " (8498, 9961),\n",
       " (11199, 6921),\n",
       " (14222, 14100),\n",
       " (14488, 8954),\n",
       " (16302, 15080),\n",
       " (19605, 12116),\n",
       " (12377, 7649),\n",
       " (11956, 7389),\n",
       " (15159, 12783),\n",
       " (18321, 15931),\n",
       " (22151, 17971),\n",
       " (27022, 16700),\n",
       " (26279, 16241),\n",
       " (30798, 19396),\n",
       " (25442, 15724),\n",
       " (17412, 10761),\n",
       " (18394, 16360),\n",
       " (17765, 10979),\n",
       " (20352, 14551),\n",
       " (13058, 8070),\n",
       " (8804, 5441),\n",
       " (5973, 3691),\n",
       " (5855, 3618),\n",
       " (9699, 10993)]"
      ]
     },
     "execution_count": 53,
     "metadata": {},
     "output_type": "execute_result"
    }
   ],
   "source": [
    "production()"
   ]
  },
  {
   "cell_type": "markdown",
   "metadata": {},
   "source": [
    "###  Affichage\n"
   ]
  },
  {
   "cell_type": "code",
   "execution_count": 54,
   "metadata": {},
   "outputs": [
    {
     "data": {
      "image/png": "iVBORw0KGgoAAAANSUhEUgAAAYkAAAD8CAYAAACCRVh7AAAABHNCSVQICAgIfAhkiAAAAAlwSFlz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\nWa7/D41nSe1kDvrHAAAAAElFTkSuQmCC\n",
      "text/plain": [
       "<matplotlib.figure.Figure at 0x18c60e912b0>"
      ]
     },
     "metadata": {},
     "output_type": "display_data"
    }
   ],
   "source": [
    "import matplotlib.pyplot as plt\n",
    "result=production()\n",
    "\n",
    "plt.plot([k for k in range(nb_steps)], [v for k,v in result], 'bo')\n",
    "plt.plot([k for k in range(nb_steps)], [k for k,v in result], 'ro')\n",
    "plt.axis([0, nb_steps, 0, 90000])\n",
    "plt.show()"
   ]
  },
  {
   "cell_type": "markdown",
   "metadata": {
    "collapsed": true
   },
   "source": [
    "### REPRODUCTION PARAMETREE"
   ]
  },
  {
   "cell_type": "code",
   "execution_count": 55,
   "metadata": {
    "collapsed": true
   },
   "outputs": [],
   "source": [
    "#NOMBRE D OEUFS PAR SEMAINE\n",
    "\n",
    "def nb_oeuf_par_semaine1(k):\n",
    "    #Avant 14 semaines\n",
    "    if k<=14:\n",
    "        nb_oeufs=int((-2.6064*k**3)+(33.363*k**2)+(22.356*k)+1000)\n",
    "    else:\n",
    "    #Apres 14 semaines\n",
    "        nb_oeufs=int((0.3906*k**4)+(-31.539*k**3)+(929*k**2)+(-11826*k)+55718)\n",
    "        \n",
    "    return(7*nb_oeufs)\n",
    "        \n",
    "        "
   ]
  },
  {
   "cell_type": "code",
   "execution_count": 56,
   "metadata": {},
   "outputs": [
    {
     "data": {
      "text/plain": [
       "6874"
      ]
     },
     "execution_count": 56,
     "metadata": {},
     "output_type": "execute_result"
    }
   ],
   "source": [
    "nb_oeuf_par_semaine1(20)"
   ]
  },
  {
   "cell_type": "code",
   "execution_count": 57,
   "metadata": {},
   "outputs": [],
   "source": [
    "def nb_oeuf_par_semaine2(k):\n",
    "    #Avant 14 semaines\n",
    "    if k<14:\n",
    "        nb_oeufs=int((-(2.6064/4)*(k+1)**4)+((33.363/3)*(k+1)**3)+((22.356/2)*(k+1)**2)+1000*(k+1))-int((-(2.6064/4)*k**4)+((33.363/3)*k**3)+((22.356/2)*k**2)+1000*k)\n",
    "    else:\n",
    "    #Apres 14 semaines\n",
    "        nb_oeufs=int(((0.3906/5)*(k+1)**5)+((-31.539/4)*(k+1)**4)+((929/3)*(k+1)**3)+((-11826/2)*(k+1)**2)+55718*(k+1))-int(((0.3906/5)*(k**5)+((-31.539/4)*k**4)+((929/3)*k**3)+((-11826/2)*k**2)+55718*k))\n",
    "        \n",
    "    return (nb_oeufs*7)"
   ]
  },
  {
   "cell_type": "code",
   "execution_count": 58,
   "metadata": {},
   "outputs": [
    {
     "data": {
      "text/plain": [
       "9772"
      ]
     },
     "execution_count": 58,
     "metadata": {},
     "output_type": "execute_result"
    }
   ],
   "source": [
    "nb_oeuf_par_semaine2(12)"
   ]
  },
  {
   "cell_type": "code",
   "execution_count": 59,
   "metadata": {},
   "outputs": [
    {
     "data": {
      "text/plain": [
       "1"
      ]
     },
     "execution_count": 59,
     "metadata": {},
     "output_type": "execute_result"
    }
   ],
   "source": [
    "List_oeuf=[(1,0),(0,0),(0,0),(0,0),(0,0),(0,0),(0,0)]\n",
    "List_oeuf[0][0]"
   ]
  },
  {
   "cell_type": "code",
   "execution_count": 60,
   "metadata": {},
   "outputs": [
    {
     "data": {
      "text/plain": [
       "3308"
      ]
     },
     "execution_count": 60,
     "metadata": {},
     "output_type": "execute_result"
    }
   ],
   "source": [
    "int(3212*(randrange(95, 110))/100)"
   ]
  },
  {
   "cell_type": "code",
   "execution_count": 61,
   "metadata": {},
   "outputs": [],
   "source": [
    "def reproduction():\n",
    "    \n",
    "    oeuf=0\n",
    "\n",
    "    colonie,nb_males,nb_ouvriere,reine=population()\n",
    "    \n",
    "    R=[]\n",
    "    R.append((nb_ouvriere,nb_males))\n",
    "\n",
    "    List_oeuf=[(0,0),(0,0),(0,0),(0,0),(0,0),(0,0),(0,0)]\n",
    "    \n",
    "    for i in range(1,nb_steps):\n",
    "        oeuf_max_par_semaine=nb_oeuf_par_semaine2(i)\n",
    "       \n",
    "        \n",
    "        nb_male_mort=int(List_oeuf[0][0]*(randrange(95, 110))/100)\n",
    "        nb_ouvriere_morte=int(List_oeuf[0][1]*(randrange(95, 110))/100)\n",
    "       \n",
    "        \n",
    "\n",
    "        nb_males=nb_males-nb_male_mort\n",
    "        nb_ouvriere=nb_ouvriere-nb_ouvriere_morte\n",
    "    \n",
    "        oeuf=0\n",
    "        ouvriere_ajoutes=0\n",
    "        male_ajoutes=0\n",
    "    \n",
    "        if(reine):\n",
    "            while(nb_ouvriere<(((1+sqrt(5))/2)*nb_males) and oeuf<oeuf_max_par_semaine):\n",
    "                nb_ouvriere=nb_ouvriere+1\n",
    "                oeuf=oeuf+1\n",
    "                ouvriere_ajoutes=ouvriere_ajoutes+1\n",
    "                \n",
    "            while(nb_ouvriere<(((1+sqrt(5))/2)*nb_males) and oeuf<oeuf_max_par_semaine):\n",
    "                nb_males=nb_males+1\n",
    "                oeuf=oeuf+1\n",
    "                male_ajoutes=male_ajoutes+1\n",
    "                \n",
    "            if oeuf<oeuf_max_par_semaine:\n",
    "                male_ajoute=int((oeuf_max_par_semaine-oeuf)/((1+sqrt(5))/2))\n",
    "                nb_males=nb_males+(male_ajoute)\n",
    "                \n",
    "                ouvriere_ajoute=oeuf_max_par_semaine-oeuf-male_ajoute\n",
    "                nb_ouvriere=nb_ouvriere+ouvriere_ajoute\n",
    "                \n",
    "        for j in range(6):\n",
    "            List_oeuf[j]=List_oeuf[j+1]\n",
    "        List_oeuf[6]=(male_ajoutes+male_ajoute,ouvriere_ajoute+ouvriere_ajoutes)\n",
    "        \n",
    "        R.append((nb_ouvriere,nb_males))\n",
    "    return(R)\n"
   ]
  },
  {
   "cell_type": "code",
   "execution_count": 62,
   "metadata": {},
   "outputs": [
    {
     "data": {
      "text/plain": [
       "[(8133, 5026),\n",
       " (11080, 9793),\n",
       " (17301, 12147),\n",
       " (22433, 16640),\n",
       " (29325, 20521),\n",
       " (36263, 25469),\n",
       " (44233, 30358),\n",
       " (52450, 35742),\n",
       " (54919, 39124),\n",
       " (60775, 38837),\n",
       " (60779, 42479),\n",
       " (63667, 40747),\n",
       " (61152, 41099),\n",
       " (58975, 36595),\n",
       " (52503, 33950),\n",
       " (48582, 28290),\n",
       " (41769, 26037),\n",
       " (38657, 22018),\n",
       " (33222, 21608),\n",
       " (31420, 20712),\n",
       " (31412, 20465),\n",
       " (32000, 21211),\n",
       " (32235, 21562),\n",
       " (29864, 18500),\n",
       " (29020, 17173)]"
      ]
     },
     "execution_count": 62,
     "metadata": {},
     "output_type": "execute_result"
    }
   ],
   "source": [
    "reproduction()"
   ]
  },
  {
   "cell_type": "code",
   "execution_count": 63,
   "metadata": {},
   "outputs": [
    {
     "data": {
      "image/png": "iVBORw0KGgoAAAANSUhEUgAAAZAAAAD8CAYAAABZ/vJZAAAABHNCSVQICAgIfAhkiAAAAAlwSFlz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\nQCRJVf4fnLwdRsG/liQAAAAASUVORK5CYII=\n",
      "text/plain": [
       "<matplotlib.figure.Figure at 0x18c60ee1f60>"
      ]
     },
     "metadata": {},
     "output_type": "display_data"
    }
   ],
   "source": [
    "import matplotlib.pyplot as plt\n",
    "results=reproduction()\n",
    "\n",
    "plt.plot([k for k in range(nb_steps)], [v for k,v in results], 'bo')\n",
    "plt.plot([k for k in range(nb_steps)], [k for k,v in results], 'ro')\n",
    "plt.axis([0, nb_steps, 0, 110000])\n",
    "plt.show()"
   ]
  },
  {
   "cell_type": "code",
   "execution_count": 64,
   "metadata": {
    "collapsed": true
   },
   "outputs": [],
   "source": [
    "def evolution_nb_oeufs():\n",
    "    LR=[]\n",
    "    for i in range (1,nb_steps):\n",
    "        LR.append(nb_oeuf_par_semaine1(i))\n",
    "    return LR"
   ]
  },
  {
   "cell_type": "code",
   "execution_count": 65,
   "metadata": {},
   "outputs": [
    {
     "data": {
      "text/plain": [
       "[7371,\n",
       " 8099,\n",
       " 9072,\n",
       " 10192,\n",
       " 11340,\n",
       " 12404,\n",
       " 13279,\n",
       " 13853,\n",
       " 14021,\n",
       " 13671,\n",
       " 12691,\n",
       " 10976,\n",
       " 8414,\n",
       " 4900,\n",
       " 4781,\n",
       " 5180,\n",
       " 5803,\n",
       " 6398,\n",
       " 6790,\n",
       " 6874,\n",
       " 6594,\n",
       " 5985,\n",
       " 5117,\n",
       " 4158]"
      ]
     },
     "execution_count": 65,
     "metadata": {},
     "output_type": "execute_result"
    }
   ],
   "source": [
    "evolution_nb_oeufs()"
   ]
  },
  {
   "cell_type": "code",
   "execution_count": 66,
   "metadata": {},
   "outputs": [
    {
     "data": {
      "image/png": "iVBORw0KGgoAAAANSUhEUgAAAYoAAAD8CAYAAABpcuN4AAAABHNCSVQICAgIfAhkiAAAAAlwSFlz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\noJAktTIoJEmt/j/qifRF3YpuLQAAAABJRU5ErkJggg==\n",
      "text/plain": [
       "<matplotlib.figure.Figure at 0x18c60ee10b8>"
      ]
     },
     "metadata": {},
     "output_type": "display_data"
    }
   ],
   "source": [
    "import matplotlib.pyplot as plt\n",
    "results=evolution_nb_oeufs()\n",
    "\n",
    "plt.plot(range(nb_steps-1), results,'bo')\n",
    "plt.axis([0, nb_steps, 3000, 15000])\n",
    "plt.show()"
   ]
  },
  {
   "cell_type": "markdown",
   "metadata": {},
   "source": [
    "## REPRODUCTION TRES REALISTE"
   ]
  },
  {
   "cell_type": "code",
   "execution_count": 67,
   "metadata": {
    "collapsed": true
   },
   "outputs": [],
   "source": [
    "def reproduction2():\n",
    "    \n",
    "    oeuf=0\n",
    "\n",
    "    colonie,nb_males,nb_ouvrieres,reine=population()\n",
    "    \n",
    "    R=[]\n",
    "    R.append((nb_ouvrieres,nb_males))\n",
    "\n",
    "    List_oeuf=[(0,0),(0,0),(0,0),(0,0),(0,0),(0,0),(0,0),(0,0),(0,0),(0,0)]\n",
    "    \n",
    "    \n",
    "    for i in range(1,nb_steps):\n",
    "        oeuf_max_par_semaine=int((nb_oeuf_par_semaine2(i))*(randrange(900, 1100))/1000)\n",
    "       \n",
    "        \n",
    "        nb_male_mort=int(List_oeuf[0][0]*(randrange(990, 1200))/1000)\n",
    "        nb_ouvriere_morte=int(List_oeuf[0][1]*(randrange(990, 1200))/1000)\n",
    "       \n",
    "        \n",
    "\n",
    "        nb_males=nb_males-nb_male_mort\n",
    "        nb_ouvrieres=nb_ouvrieres-nb_ouvriere_morte\n",
    "    \n",
    "        oeuf=0\n",
    "        ouvrieres_pondues=0\n",
    "        males_pondues=0\n",
    "        \n",
    "        copie_males=nb_males\n",
    "        copie_ouvriere=nb_ouvrieres\n",
    "        \n",
    "        if(reine):\n",
    "            while( copie_ouvriere<(((1+sqrt(5))/2)* copie_males) and oeuf<oeuf_max_par_semaine):\n",
    "                copie_ouvriere= copie_ouvriere+1\n",
    "                oeuf=oeuf+1\n",
    "                ouvrieres_pondues=ouvrieres_pondues+1\n",
    "                \n",
    "            while(copie_ouvriere<(((1+sqrt(5))/2)*copie_males) and oeuf<oeuf_max_par_semaine):\n",
    "                copie_males=copie_males+1\n",
    "                oeuf=oeuf+1\n",
    "                males_pondues=male_pondues+1\n",
    "                \n",
    "            if oeuf<oeuf_max_par_semaine:\n",
    "                male_pondue=int((oeuf_max_par_semaine-oeuf)/((1+sqrt(5))/2))\n",
    "                ouvriere_pondue=oeuf_max_par_semaine-oeuf-male_pondue\n",
    "        \n",
    "        \n",
    "        nb_ouvrieres=nb_ouvrieres+List_oeuf[-3][1]\n",
    "        nb_males=nb_males+List_oeuf[-3][0]\n",
    "        \n",
    "        for j in range(9):\n",
    "            List_oeuf[j]=List_oeuf[j+1]\n",
    "        List_oeuf[-1]=(males_pondues+male_pondue,ouvriere_pondue+ouvrieres_pondues)\n",
    "        \n",
    "        print(List_oeuf)\n",
    "        \n",
    "        R.append((nb_ouvrieres,nb_males))\n",
    "    return(R)\n"
   ]
  },
  {
   "cell_type": "code",
   "execution_count": 68,
   "metadata": {},
   "outputs": [
    {
     "name": "stdout",
     "output_type": "stream",
     "text": [
      "[(0, 0), (0, 0), (0, 0), (0, 0), (0, 0), (0, 0), (0, 0), (0, 0), (0, 0), (4681, 2894)]\n",
      "[(0, 0), (0, 0), (0, 0), (0, 0), (0, 0), (0, 0), (0, 0), (0, 0), (4681, 2894), (5781, 3574)]\n",
      "[(0, 0), (0, 0), (0, 0), (0, 0), (0, 0), (0, 0), (0, 0), (4681, 2894), (5781, 3574), (6352, 3927)]\n",
      "[(0, 0), (0, 0), (0, 0), (0, 0), (0, 0), (0, 0), (4681, 2894), (5781, 3574), (6352, 3927), (6664, 4119)]\n",
      "[(0, 0), (0, 0), (0, 0), (0, 0), (0, 0), (4681, 2894), (5781, 3574), (6352, 3927), (6664, 4119), (5121, 7846)]\n",
      "[(0, 0), (0, 0), (0, 0), (0, 0), (4681, 2894), (5781, 3574), (6352, 3927), (6664, 4119), (5121, 7846), (846, 10984)]\n",
      "[(0, 0), (0, 0), (0, 0), (4681, 2894), (5781, 3574), (6352, 3927), (6664, 4119), (5121, 7846), (846, 10984), (846, 13009)]\n",
      "[(0, 0), (0, 0), (4681, 2894), (5781, 3574), (6352, 3927), (6664, 4119), (5121, 7846), (846, 10984), (846, 13009), (846, 14684)]\n",
      "[(0, 0), (4681, 2894), (5781, 3574), (6352, 3927), (6664, 4119), (5121, 7846), (846, 10984), (846, 13009), (846, 14684), (846, 13126)]\n",
      "[(4681, 2894), (5781, 3574), (6352, 3927), (6664, 4119), (5121, 7846), (846, 10984), (846, 13009), (846, 14684), (846, 13126), (846, 14178)]\n",
      "[(5781, 3574), (6352, 3927), (6664, 4119), (5121, 7846), (846, 10984), (846, 13009), (846, 14684), (846, 13126), (846, 14178), (6806, 4207)]\n",
      "[(6352, 3927), (6664, 4119), (5121, 7846), (846, 10984), (846, 13009), (846, 14684), (846, 13126), (846, 14178), (6806, 4207), (6371, 3938)]\n",
      "[(6664, 4119), (5121, 7846), (846, 10984), (846, 13009), (846, 14684), (846, 13126), (846, 14178), (6806, 4207), (6371, 3938), (4116, 2544)]\n",
      "[(5121, 7846), (846, 10984), (846, 13009), (846, 14684), (846, 13126), (846, 14178), (6806, 4207), (6371, 3938), (4116, 2544), (2658, 1644)]\n",
      "[(846, 10984), (846, 13009), (846, 14684), (846, 13126), (846, 14178), (6806, 4207), (6371, 3938), (4116, 2544), (2658, 1644), (3077, 1903)]\n",
      "[(846, 13009), (846, 14684), (846, 13126), (846, 14178), (6806, 4207), (6371, 3938), (4116, 2544), (2658, 1644), (3077, 1903), (3506, 2168)]\n",
      "[(846, 14684), (846, 13126), (846, 14178), (6806, 4207), (6371, 3938), (4116, 2544), (2658, 1644), (3077, 1903), (3506, 2168), (3935, 2432)]\n",
      "[(846, 13126), (846, 14178), (6806, 4207), (6371, 3938), (4116, 2544), (2658, 1644), (3077, 1903), (3506, 2168), (3935, 2432), (3916, 2421)]\n",
      "[(846, 14178), (6806, 4207), (6371, 3938), (4116, 2544), (2658, 1644), (3077, 1903), (3506, 2168), (3935, 2432), (3916, 2421), (3916, 9589)]\n",
      "[(6806, 4207), (6371, 3938), (4116, 2544), (2658, 1644), (3077, 1903), (3506, 2168), (3935, 2432), (3916, 2421), (3916, 9589), (3916, 9805)]\n",
      "[(6371, 3938), (4116, 2544), (2658, 1644), (3077, 1903), (3506, 2168), (3935, 2432), (3916, 2421), (3916, 9589), (3916, 9805), (3916, 8767)]\n",
      "[(4116, 2544), (2658, 1644), (3077, 1903), (3506, 2168), (3935, 2432), (3916, 2421), (3916, 9589), (3916, 9805), (3916, 8767), (3916, 7758)]\n",
      "[(2658, 1644), (3077, 1903), (3506, 2168), (3935, 2432), (3916, 2421), (3916, 9589), (3916, 9805), (3916, 8767), (3916, 7758), (3916, 6913)]\n",
      "[(3077, 1903), (3506, 2168), (3935, 2432), (3916, 2421), (3916, 9589), (3916, 9805), (3916, 8767), (3916, 7758), (3916, 6913), (3916, 6134)]\n"
     ]
    },
    {
     "data": {
      "text/plain": [
       "[(7299, 4511),\n",
       " (7299, 4511),\n",
       " (7299, 4511),\n",
       " (7299, 4511),\n",
       " (10193, 9192),\n",
       " (13767, 14973),\n",
       " (17694, 21325),\n",
       " (21813, 27989),\n",
       " (29659, 33110),\n",
       " (40643, 33956),\n",
       " (53652, 34802),\n",
       " (65037, 30921),\n",
       " (74547, 25981),\n",
       " (84590, 19250),\n",
       " (83954, 18613),\n",
       " (78964, 18885),\n",
       " (70382, 22000),\n",
       " (57613, 23726),\n",
       " (43731, 25903),\n",
       " (30975, 28481),\n",
       " (17486, 31493),\n",
       " (15234, 27433),\n",
       " (20681, 24991),\n",
       " (27764, 24265),\n",
       " (34620, 25258)]"
      ]
     },
     "execution_count": 68,
     "metadata": {},
     "output_type": "execute_result"
    }
   ],
   "source": [
    "reproduction2()"
   ]
  },
  {
   "cell_type": "code",
   "execution_count": 69,
   "metadata": {},
   "outputs": [
    {
     "name": "stdout",
     "output_type": "stream",
     "text": [
      "[(0, 0), (0, 0), (0, 0), (0, 0), (0, 0), (0, 0), (0, 0), (0, 0), (0, 0), (4433, 2741)]\n",
      "[(0, 0), (0, 0), (0, 0), (0, 0), (0, 0), (0, 0), (0, 0), (0, 0), (4433, 2741), (4923, 3043)]\n",
      "[(0, 0), (0, 0), (0, 0), (0, 0), (0, 0), (0, 0), (0, 0), (4433, 2741), (4923, 3043), (5425, 3353)]\n",
      "[(0, 0), (0, 0), (0, 0), (0, 0), (0, 0), (0, 0), (4433, 2741), (4923, 3043), (5425, 3353), (6504, 4021)]\n",
      "[(0, 0), (0, 0), (0, 0), (0, 0), (0, 0), (4433, 2741), (4923, 3043), (5425, 3353), (6504, 4021), (3938, 6866)]\n",
      "[(0, 0), (0, 0), (0, 0), (0, 0), (4433, 2741), (4923, 3043), (5425, 3353), (6504, 4021), (3938, 6866), (2030, 10610)]\n",
      "[(0, 0), (0, 0), (0, 0), (4433, 2741), (4923, 3043), (5425, 3353), (6504, 4021), (3938, 6866), (2030, 10610), (2030, 15142)]\n",
      "[(0, 0), (0, 0), (4433, 2741), (4923, 3043), (5425, 3353), (6504, 4021), (3938, 6866), (2030, 10610), (2030, 15142), (2030, 14801)]\n",
      "[(0, 0), (4433, 2741), (4923, 3043), (5425, 3353), (6504, 4021), (3938, 6866), (2030, 10610), (2030, 15142), (2030, 14801), (2030, 15790)]\n",
      "[(4433, 2741), (4923, 3043), (5425, 3353), (6504, 4021), (3938, 6866), (2030, 10610), (2030, 15142), (2030, 14801), (2030, 15790), (2030, 14486)]\n",
      "[(4923, 3043), (5425, 3353), (6504, 4021), (3938, 6866), (2030, 10610), (2030, 15142), (2030, 14801), (2030, 15790), (2030, 14486), (7035, 4348)]\n",
      "[(5425, 3353), (6504, 4021), (3938, 6866), (2030, 10610), (2030, 15142), (2030, 14801), (2030, 15790), (2030, 14486), (7035, 4348), (6486, 4009)]\n",
      "[(6504, 4021), (3938, 6866), (2030, 10610), (2030, 15142), (2030, 14801), (2030, 15790), (2030, 14486), (7035, 4348), (6486, 4009), (3928, 2428)]\n",
      "[(3938, 6866), (2030, 10610), (2030, 15142), (2030, 14801), (2030, 15790), (2030, 14486), (7035, 4348), (6486, 4009), (3928, 2428), (3176, 1963)]\n",
      "[(2030, 10610), (2030, 15142), (2030, 14801), (2030, 15790), (2030, 14486), (7035, 4348), (6486, 4009), (3928, 2428), (3176, 1963), (3114, 1926)]\n",
      "[(2030, 15142), (2030, 14801), (2030, 15790), (2030, 14486), (7035, 4348), (6486, 4009), (3928, 2428), (3176, 1963), (3114, 1926), (3093, 1912)]\n",
      "[(2030, 14801), (2030, 15790), (2030, 14486), (7035, 4348), (6486, 4009), (3928, 2428), (3176, 1963), (3114, 1926), (3093, 1912), (3878, 2397)]\n",
      "[(2030, 15790), (2030, 14486), (7035, 4348), (6486, 4009), (3928, 2428), (3176, 1963), (3114, 1926), (3093, 1912), (3878, 2397), (4083, 2525)]\n",
      "[(2030, 14486), (7035, 4348), (6486, 4009), (3928, 2428), (3176, 1963), (3114, 1926), (3093, 1912), (3878, 2397), (4083, 2525), (4083, 8856)]\n",
      "[(7035, 4348), (6486, 4009), (3928, 2428), (3176, 1963), (3114, 1926), (3093, 1912), (3878, 2397), (4083, 2525), (4083, 8856), (4083, 9381)]\n",
      "[(6486, 4009), (3928, 2428), (3176, 1963), (3114, 1926), (3093, 1912), (3878, 2397), (4083, 2525), (4083, 8856), (4083, 9381), (4083, 8687)]\n",
      "[(3928, 2428), (3176, 1963), (3114, 1926), (3093, 1912), (3878, 2397), (4083, 2525), (4083, 8856), (4083, 9381), (4083, 8687), (4083, 7651)]\n",
      "[(3176, 1963), (3114, 1926), (3093, 1912), (3878, 2397), (4083, 2525), (4083, 8856), (4083, 9381), (4083, 8687), (4083, 7651), (4083, 6739)]\n",
      "[(3114, 1926), (3093, 1912), (3878, 2397), (4083, 2525), (4083, 8856), (4083, 9381), (4083, 8687), (4083, 7651), (4083, 6739), (4083, 6509)]\n"
     ]
    },
    {
     "data": {
      "image/png": "iVBORw0KGgoAAAANSUhEUgAAAZAAAAD8CAYAAABZ/vJZAAAABHNCSVQICAgIfAhkiAAAAAlwSFlz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\n",
      "text/plain": [
       "<matplotlib.figure.Figure at 0x18c5fdf15f8>"
      ]
     },
     "metadata": {},
     "output_type": "display_data"
    }
   ],
   "source": [
    "import matplotlib.pyplot as plt\n",
    "results=reproduction2()\n",
    "\n",
    "plt.plot([k for k in range(nb_steps)], [v for k,v in results], 'bo')\n",
    "plt.plot([k for k in range(nb_steps)], [k for k,v in results], 'ro')\n",
    "plt.plot([k for k in range(nb_steps)], [k+v for k,v in results], 'go')\n",
    "plt.axis([0, nb_steps, 0, 200000])\n",
    "plt.show()"
   ]
  },
  {
   "cell_type": "markdown",
   "metadata": {
    "collapsed": true
   },
   "source": [
    "## ajout de prédateurs"
   ]
  },
  {
   "cell_type": "code",
   "execution_count": 70,
   "metadata": {
    "collapsed": true
   },
   "outputs": [],
   "source": [
    "def reproduction3():\n",
    "    \n",
    "    oeuf=0\n",
    "\n",
    "    colonie,nb_males,nb_ouvrieres,reine=population()\n",
    "    \n",
    "    R=[]\n",
    "    R.append((nb_ouvrieres,nb_males))\n",
    "\n",
    "    List_oeuf=[(0,0),(0,0),(0,0),(0,0),(0,0),(0,0),(0,0),(0,0),(0,0),(0,0)]\n",
    "    \n",
    "    \n",
    "    for i in range(1,nb_steps):\n",
    "        oeuf_max_par_semaine=int((nb_oeuf_par_semaine2(i))*(randrange(900, 1100))/1000)\n",
    "       \n",
    "        \n",
    "        nb_male_mort=int(List_oeuf[0][0]*(randrange(800, 900))/1000+nb_males*(randrange(40, 70))/1000)\n",
    "        nb_ouvriere_morte=int(List_oeuf[0][1]*(randrange(800, 900))/1000+nb_ouvrieres*(randrange(40, 70))/1000)\n",
    "       \n",
    "        \n",
    "\n",
    "        nb_males=nb_males-nb_male_mort\n",
    "        nb_ouvrieres=nb_ouvrieres-nb_ouvriere_morte\n",
    "    \n",
    "        oeuf=0\n",
    "        ouvrieres_pondues=0\n",
    "        males_pondues=0\n",
    "        \n",
    "        copie_males=nb_males\n",
    "        copie_ouvriere=nb_ouvrieres\n",
    "        \n",
    "        if(reine):\n",
    "            while( copie_ouvriere<(((1+sqrt(5))/2)* copie_males) and oeuf<oeuf_max_par_semaine):\n",
    "                copie_ouvriere= copie_ouvriere+1\n",
    "                oeuf=oeuf+1\n",
    "                ouvrieres_pondues=ouvrieres_pondues+1\n",
    "                \n",
    "            while(copie_ouvriere<(((1+sqrt(5))/2)*copie_males) and oeuf<oeuf_max_par_semaine):\n",
    "                copie_males=copie_males+1\n",
    "                oeuf=oeuf+1\n",
    "                males_pondues=male_pondues+1\n",
    "                \n",
    "            if oeuf<oeuf_max_par_semaine:\n",
    "                male_pondue=int((oeuf_max_par_semaine-oeuf)/((1+sqrt(5))/2))\n",
    "                ouvriere_pondue=oeuf_max_par_semaine-oeuf-male_pondue\n",
    "        \n",
    "        \n",
    "        nb_ouvrieres=nb_ouvrieres+List_oeuf[-3][1]\n",
    "        nb_males=nb_males+List_oeuf[-3][0]\n",
    "        \n",
    "        for j in range(9):\n",
    "            List_oeuf[j]=List_oeuf[j+1]\n",
    "        List_oeuf[-1]=(males_pondues+male_pondue,ouvriere_pondue+ouvrieres_pondues)\n",
    "        \n",
    "        print(List_oeuf)\n",
    "        \n",
    "        R.append((nb_ouvrieres,nb_males))\n",
    "    return(R)\n"
   ]
  },
  {
   "cell_type": "code",
   "execution_count": 71,
   "metadata": {},
   "outputs": [
    {
     "name": "stdout",
     "output_type": "stream",
     "text": [
      "[(0, 0), (0, 0), (0, 0), (0, 0), (0, 0), (0, 0), (0, 0), (0, 0), (0, 0), (4734, 2926)]\n",
      "[(0, 0), (0, 0), (0, 0), (0, 0), (0, 0), (0, 0), (0, 0), (0, 0), (4734, 2926), (5256, 3250)]\n",
      "[(0, 0), (0, 0), (0, 0), (0, 0), (0, 0), (0, 0), (0, 0), (4734, 2926), (5256, 3250), (5698, 3522)]\n",
      "[(0, 0), (0, 0), (0, 0), (0, 0), (0, 0), (0, 0), (4734, 2926), (5256, 3250), (5698, 3522), (6065, 3749)]\n",
      "[(0, 0), (0, 0), (0, 0), (0, 0), (0, 0), (4734, 2926), (5256, 3250), (5698, 3522), (6065, 3749), (4274, 6922)]\n",
      "[(0, 0), (0, 0), (0, 0), (0, 0), (4734, 2926), (5256, 3250), (5698, 3522), (6065, 3749), (4274, 6922), (1439, 10236)]\n",
      "[(0, 0), (0, 0), (0, 0), (4734, 2926), (5256, 3250), (5698, 3522), (6065, 3749), (4274, 6922), (1439, 10236), (1439, 13606)]\n",
      "[(0, 0), (0, 0), (4734, 2926), (5256, 3250), (5698, 3522), (6065, 3749), (4274, 6922), (1439, 10236), (1439, 13606), (1439, 14128)]\n",
      "[(0, 0), (4734, 2926), (5256, 3250), (5698, 3522), (6065, 3749), (4274, 6922), (1439, 10236), (1439, 13606), (1439, 14128), (1439, 14118)]\n",
      "[(4734, 2926), (5256, 3250), (5698, 3522), (6065, 3749), (4274, 6922), (1439, 10236), (1439, 13606), (1439, 14128), (1439, 14118), (3009, 9917)]\n",
      "[(5256, 3250), (5698, 3522), (6065, 3749), (4274, 6922), (1439, 10236), (1439, 13606), (1439, 14128), (1439, 14118), (3009, 9917), (6630, 4098)]\n",
      "[(5698, 3522), (6065, 3749), (4274, 6922), (1439, 10236), (1439, 13606), (1439, 14128), (1439, 14118), (3009, 9917), (6630, 4098), (6166, 3811)]\n",
      "[(6065, 3749), (4274, 6922), (1439, 10236), (1439, 13606), (1439, 14128), (1439, 14118), (3009, 9917), (6630, 4098), (6166, 3811), (4541, 2807)]\n",
      "[(4274, 6922), (1439, 10236), (1439, 13606), (1439, 14128), (1439, 14118), (3009, 9917), (6630, 4098), (6166, 3811), (4541, 2807), (2827, 1748)]\n",
      "[(1439, 10236), (1439, 13606), (1439, 14128), (1439, 14118), (3009, 9917), (6630, 4098), (6166, 3811), (4541, 2807), (2827, 1748), (3332, 2060)]\n",
      "[(1439, 13606), (1439, 14128), (1439, 14118), (3009, 9917), (6630, 4098), (6166, 3811), (4541, 2807), (2827, 1748), (3332, 2060), (3320, 2052)]\n",
      "[(1439, 14128), (1439, 14118), (3009, 9917), (6630, 4098), (6166, 3811), (4541, 2807), (2827, 1748), (3332, 2060), (3320, 2052), (3428, 2120)]\n",
      "[(1439, 14118), (3009, 9917), (6630, 4098), (6166, 3811), (4541, 2807), (2827, 1748), (3332, 2060), (3320, 2052), (3428, 2120), (390, 6602)]\n",
      "[(3009, 9917), (6630, 4098), (6166, 3811), (4541, 2807), (2827, 1748), (3332, 2060), (3320, 2052), (3428, 2120), (390, 6602), (390, 7506)]\n",
      "[(6630, 4098), (6166, 3811), (4541, 2807), (2827, 1748), (3332, 2060), (3320, 2052), (3428, 2120), (390, 6602), (390, 7506), (390, 7247)]\n",
      "[(6166, 3811), (4541, 2807), (2827, 1748), (3332, 2060), (3320, 2052), (3428, 2120), (390, 6602), (390, 7506), (390, 7247), (390, 6600)]\n",
      "[(4541, 2807), (2827, 1748), (3332, 2060), (3320, 2052), (3428, 2120), (390, 6602), (390, 7506), (390, 7247), (390, 6600), (390, 5886)]\n",
      "[(2827, 1748), (3332, 2060), (3320, 2052), (3428, 2120), (390, 6602), (390, 7506), (390, 7247), (390, 6600), (390, 5886), (2767, 1711)]\n",
      "[(3332, 2060), (3320, 2052), (3428, 2120), (390, 6602), (390, 7506), (390, 7247), (390, 6600), (390, 5886), (2767, 1711), (2496, 1544)]\n"
     ]
    },
    {
     "data": {
      "text/plain": [
       "[(7819, 4831),\n",
       " (7475, 4575),\n",
       " (7087, 4324),\n",
       " (6698, 4048),\n",
       " (9310, 8540),\n",
       " (12002, 13310),\n",
       " (14852, 18476),\n",
       " (17993, 23544),\n",
       " (23710, 26218),\n",
       " (32880, 26084),\n",
       " (45138, 25906),\n",
       " (54724, 21764),\n",
       " (63808, 17433),\n",
       " (66584, 14371),\n",
       " (63326, 14744),\n",
       " (57677, 16448),\n",
       " (48348, 18899),\n",
       " (35246, 19187),\n",
       " (23570, 20556),\n",
       " (12952, 21646),\n",
       " (5997, 21237),\n",
       " (8802, 14911),\n",
       " (12629, 9053),\n",
       " (16790, 4891),\n",
       " (20977, 2640)]"
      ]
     },
     "execution_count": 71,
     "metadata": {},
     "output_type": "execute_result"
    }
   ],
   "source": [
    "reproduction3()"
   ]
  },
  {
   "cell_type": "code",
   "execution_count": 76,
   "metadata": {},
   "outputs": [
    {
     "name": "stdout",
     "output_type": "stream",
     "text": [
      "[(0, 0), (0, 0), (0, 0), (0, 0), (0, 0), (0, 0), (0, 0), (0, 0), (0, 0), (4282, 2814)]\n",
      "[(0, 0), (0, 0), (0, 0), (0, 0), (0, 0), (0, 0), (0, 0), (0, 0), (4282, 2814), (5760, 3612)]\n",
      "[(0, 0), (0, 0), (0, 0), (0, 0), (0, 0), (0, 0), (0, 0), (4282, 2814), (5760, 3612), (6097, 3903)]\n",
      "[(0, 0), (0, 0), (0, 0), (0, 0), (0, 0), (0, 0), (4282, 2814), (5760, 3612), (6097, 3903), (6879, 4432)]\n",
      "[(0, 0), (0, 0), (0, 0), (0, 0), (0, 0), (4282, 2814), (5760, 3612), (6097, 3903), (6879, 4432), (4162, 6785)]\n",
      "[(0, 0), (0, 0), (0, 0), (0, 0), (4282, 2814), (5760, 3612), (6097, 3903), (6879, 4432), (4162, 6785), (2192, 10731)]\n",
      "[(0, 0), (0, 0), (0, 0), (4282, 2814), (5760, 3612), (6097, 3903), (6879, 4432), (4162, 6785), (2192, 10731), (2192, 15486)]\n",
      "[(0, 0), (0, 0), (4282, 2814), (5760, 3612), (6097, 3903), (6879, 4432), (4162, 6785), (2192, 10731), (2192, 15486), (2192, 14984)]\n",
      "[(0, 0), (4282, 2814), (5760, 3612), (6097, 3903), (6879, 4432), (4162, 6785), (2192, 10731), (2192, 15486), (2192, 14984), (2192, 14013)]\n",
      "[(4282, 2814), (5760, 3612), (6097, 3903), (6879, 4432), (4162, 6785), (2192, 10731), (2192, 15486), (2192, 14984), (2192, 14013), (898, 11061)]\n",
      "[(5760, 3612), (6097, 3903), (6879, 4432), (4162, 6785), (2192, 10731), (2192, 15486), (2192, 14984), (2192, 14013), (898, 11061), (7387, 4567)]\n",
      "[(6097, 3903), (6879, 4432), (4162, 6785), (2192, 10731), (2192, 15486), (2192, 14984), (2192, 14013), (898, 11061), (7387, 4567), (6171, 3815)]\n",
      "[(6879, 4432), (4162, 6785), (2192, 10731), (2192, 15486), (2192, 14984), (2192, 14013), (898, 11061), (7387, 4567), (6171, 3815), (4333, 2678)]\n",
      "[(4162, 6785), (2192, 10731), (2192, 15486), (2192, 14984), (2192, 14013), (898, 11061), (7387, 4567), (6171, 3815), (4333, 2678), (3182, 1967)]\n",
      "[(2192, 10731), (2192, 15486), (2192, 14984), (2192, 14013), (898, 11061), (7387, 4567), (6171, 3815), (4333, 2678), (3182, 1967), (2958, 1829)]\n",
      "[(2192, 15486), (2192, 14984), (2192, 14013), (898, 11061), (7387, 4567), (6171, 3815), (4333, 2678), (3182, 1967), (2958, 1829), (3401, 2103)]\n",
      "[(2192, 14984), (2192, 14013), (898, 11061), (7387, 4567), (6171, 3815), (4333, 2678), (3182, 1967), (2958, 1829), (3401, 2103), (3436, 2125)]\n",
      "[(2192, 14013), (898, 11061), (7387, 4567), (6171, 3815), (4333, 2678), (3182, 1967), (2958, 1829), (3401, 2103), (3436, 2125), (1534, 5240)]\n",
      "[(898, 11061), (7387, 4567), (6171, 3815), (4333, 2678), (3182, 1967), (2958, 1829), (3401, 2103), (3436, 2125), (1534, 5240), (1534, 8103)]\n",
      "[(7387, 4567), (6171, 3815), (4333, 2678), (3182, 1967), (2958, 1829), (3401, 2103), (3436, 2125), (1534, 5240), (1534, 8103), (1534, 8137)]\n",
      "[(6171, 3815), (4333, 2678), (3182, 1967), (2958, 1829), (3401, 2103), (3436, 2125), (1534, 5240), (1534, 8103), (1534, 8137), (1534, 6972)]\n",
      "[(4333, 2678), (3182, 1967), (2958, 1829), (3401, 2103), (3436, 2125), (1534, 5240), (1534, 8103), (1534, 8137), (1534, 6972), (1534, 6275)]\n",
      "[(3182, 1967), (2958, 1829), (3401, 2103), (3436, 2125), (1534, 5240), (1534, 8103), (1534, 8137), (1534, 6972), (1534, 6275), (873, 3494)]\n",
      "[(2958, 1829), (3401, 2103), (3436, 2125), (1534, 5240), (1534, 8103), (1534, 8137), (1534, 6972), (1534, 6275), (873, 3494), (2336, 1444)]\n"
     ]
    },
    {
     "data": {
      "image/png": "iVBORw0KGgoAAAANSUhEUgAAAZAAAAD8CAYAAABZ/vJZAAAABHNCSVQICAgIfAhkiAAAAAlwSFlz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\nTkSuQmCC\n",
      "text/plain": [
       "<matplotlib.figure.Figure at 0x18c5fe5cc18>"
      ]
     },
     "metadata": {},
     "output_type": "display_data"
    }
   ],
   "source": [
    "import matplotlib.pyplot as plt\n",
    "results=reproduction3()\n",
    "\n",
    "plt.plot([k for k in range(nb_steps)], [v for k,v in results], 'bo')\n",
    "plt.plot([k for k in range(nb_steps)], [k for k,v in results], 'ro')\n",
    "plt.plot([k for k in range(nb_steps)], [k+v for k,v in results], 'go')\n",
    "plt.axis([0, nb_steps, 0, 100000])\n",
    "plt.show()"
   ]
  },
  {
   "cell_type": "code",
   "execution_count": null,
   "metadata": {
    "collapsed": true
   },
   "outputs": [],
   "source": []
  },
  {
   "cell_type": "code",
   "execution_count": null,
   "metadata": {
    "collapsed": true
   },
   "outputs": [],
   "source": []
  }
 ],
 "metadata": {
  "kernelspec": {
   "display_name": "Python 3",
   "language": "python",
   "name": "python3"
  },
  "language_info": {
   "codemirror_mode": {
    "name": "ipython",
    "version": 3
   },
   "file_extension": ".py",
   "mimetype": "text/x-python",
   "name": "python",
   "nbconvert_exporter": "python",
   "pygments_lexer": "ipython3",
   "version": "3.6.3"
  }
 },
 "nbformat": 4,
 "nbformat_minor": 1
}
